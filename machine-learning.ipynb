{
 "cells": [
  {
   "cell_type": "code",
   "execution_count": null,
   "metadata": {},
   "outputs": [],
   "source": [
    "# Update sklearn to prevent version mismatches\n",
    "!pip install sklearn --upgrade"
   ]
  },
  {
   "cell_type": "code",
   "execution_count": 1,
   "metadata": {},
   "outputs": [
    {
     "name": "stdout",
     "output_type": "stream",
     "text": [
      "Requirement already satisfied: joblib in c:\\users\\shahz\\appdata\\local\\programs\\python\\python37\\lib\\site-packages (0.14.0)\n"
     ]
    }
   ],
   "source": [
    "# install joblib. This will be used to save your model. \n",
    "# Restart your kernel after installing \n",
    "!pip install joblib"
   ]
  },
  {
   "cell_type": "code",
   "execution_count": 26,
   "metadata": {},
   "outputs": [],
   "source": [
    "import pandas as pd\n",
    "from sklearn import tree"
   ]
  },
  {
   "cell_type": "markdown",
   "metadata": {},
   "source": [
    "# Read the CSV and Perform Basic Data Cleaning"
   ]
  },
  {
   "cell_type": "code",
   "execution_count": 27,
   "metadata": {},
   "outputs": [
    {
     "data": {
      "text/html": [
       "<div>\n",
       "<style scoped>\n",
       "    .dataframe tbody tr th:only-of-type {\n",
       "        vertical-align: middle;\n",
       "    }\n",
       "\n",
       "    .dataframe tbody tr th {\n",
       "        vertical-align: top;\n",
       "    }\n",
       "\n",
       "    .dataframe thead th {\n",
       "        text-align: right;\n",
       "    }\n",
       "</style>\n",
       "<table border=\"1\" class=\"dataframe\">\n",
       "  <thead>\n",
       "    <tr style=\"text-align: right;\">\n",
       "      <th></th>\n",
       "      <th>koi_disposition</th>\n",
       "      <th>koi_fpflag_nt</th>\n",
       "      <th>koi_fpflag_ss</th>\n",
       "      <th>koi_fpflag_co</th>\n",
       "      <th>koi_fpflag_ec</th>\n",
       "      <th>koi_period</th>\n",
       "      <th>koi_period_err1</th>\n",
       "      <th>koi_period_err2</th>\n",
       "      <th>koi_time0bk</th>\n",
       "      <th>koi_time0bk_err1</th>\n",
       "      <th>...</th>\n",
       "      <th>koi_steff_err2</th>\n",
       "      <th>koi_slogg</th>\n",
       "      <th>koi_slogg_err1</th>\n",
       "      <th>koi_slogg_err2</th>\n",
       "      <th>koi_srad</th>\n",
       "      <th>koi_srad_err1</th>\n",
       "      <th>koi_srad_err2</th>\n",
       "      <th>ra</th>\n",
       "      <th>dec</th>\n",
       "      <th>koi_kepmag</th>\n",
       "    </tr>\n",
       "  </thead>\n",
       "  <tbody>\n",
       "    <tr>\n",
       "      <th>0</th>\n",
       "      <td>CONFIRMED</td>\n",
       "      <td>0</td>\n",
       "      <td>0</td>\n",
       "      <td>0</td>\n",
       "      <td>0</td>\n",
       "      <td>54.418383</td>\n",
       "      <td>2.479000e-04</td>\n",
       "      <td>-2.479000e-04</td>\n",
       "      <td>162.513840</td>\n",
       "      <td>0.003520</td>\n",
       "      <td>...</td>\n",
       "      <td>-81</td>\n",
       "      <td>4.467</td>\n",
       "      <td>0.064</td>\n",
       "      <td>-0.096</td>\n",
       "      <td>0.927</td>\n",
       "      <td>0.105</td>\n",
       "      <td>-0.061</td>\n",
       "      <td>291.93423</td>\n",
       "      <td>48.141651</td>\n",
       "      <td>15.347</td>\n",
       "    </tr>\n",
       "    <tr>\n",
       "      <th>1</th>\n",
       "      <td>FALSE POSITIVE</td>\n",
       "      <td>0</td>\n",
       "      <td>1</td>\n",
       "      <td>0</td>\n",
       "      <td>0</td>\n",
       "      <td>19.899140</td>\n",
       "      <td>1.490000e-05</td>\n",
       "      <td>-1.490000e-05</td>\n",
       "      <td>175.850252</td>\n",
       "      <td>0.000581</td>\n",
       "      <td>...</td>\n",
       "      <td>-176</td>\n",
       "      <td>4.544</td>\n",
       "      <td>0.044</td>\n",
       "      <td>-0.176</td>\n",
       "      <td>0.868</td>\n",
       "      <td>0.233</td>\n",
       "      <td>-0.078</td>\n",
       "      <td>297.00482</td>\n",
       "      <td>48.134129</td>\n",
       "      <td>15.436</td>\n",
       "    </tr>\n",
       "    <tr>\n",
       "      <th>2</th>\n",
       "      <td>FALSE POSITIVE</td>\n",
       "      <td>0</td>\n",
       "      <td>1</td>\n",
       "      <td>0</td>\n",
       "      <td>0</td>\n",
       "      <td>1.736952</td>\n",
       "      <td>2.630000e-07</td>\n",
       "      <td>-2.630000e-07</td>\n",
       "      <td>170.307565</td>\n",
       "      <td>0.000115</td>\n",
       "      <td>...</td>\n",
       "      <td>-174</td>\n",
       "      <td>4.564</td>\n",
       "      <td>0.053</td>\n",
       "      <td>-0.168</td>\n",
       "      <td>0.791</td>\n",
       "      <td>0.201</td>\n",
       "      <td>-0.067</td>\n",
       "      <td>285.53461</td>\n",
       "      <td>48.285210</td>\n",
       "      <td>15.597</td>\n",
       "    </tr>\n",
       "    <tr>\n",
       "      <th>3</th>\n",
       "      <td>CONFIRMED</td>\n",
       "      <td>0</td>\n",
       "      <td>0</td>\n",
       "      <td>0</td>\n",
       "      <td>0</td>\n",
       "      <td>2.525592</td>\n",
       "      <td>3.760000e-06</td>\n",
       "      <td>-3.760000e-06</td>\n",
       "      <td>171.595550</td>\n",
       "      <td>0.001130</td>\n",
       "      <td>...</td>\n",
       "      <td>-211</td>\n",
       "      <td>4.438</td>\n",
       "      <td>0.070</td>\n",
       "      <td>-0.210</td>\n",
       "      <td>1.046</td>\n",
       "      <td>0.334</td>\n",
       "      <td>-0.133</td>\n",
       "      <td>288.75488</td>\n",
       "      <td>48.226200</td>\n",
       "      <td>15.509</td>\n",
       "    </tr>\n",
       "    <tr>\n",
       "      <th>4</th>\n",
       "      <td>CONFIRMED</td>\n",
       "      <td>0</td>\n",
       "      <td>0</td>\n",
       "      <td>0</td>\n",
       "      <td>0</td>\n",
       "      <td>4.134435</td>\n",
       "      <td>1.050000e-05</td>\n",
       "      <td>-1.050000e-05</td>\n",
       "      <td>172.979370</td>\n",
       "      <td>0.001900</td>\n",
       "      <td>...</td>\n",
       "      <td>-232</td>\n",
       "      <td>4.486</td>\n",
       "      <td>0.054</td>\n",
       "      <td>-0.229</td>\n",
       "      <td>0.972</td>\n",
       "      <td>0.315</td>\n",
       "      <td>-0.105</td>\n",
       "      <td>296.28613</td>\n",
       "      <td>48.224670</td>\n",
       "      <td>15.714</td>\n",
       "    </tr>\n",
       "  </tbody>\n",
       "</table>\n",
       "<p>5 rows × 41 columns</p>\n",
       "</div>"
      ],
      "text/plain": [
       "  koi_disposition  koi_fpflag_nt  koi_fpflag_ss  koi_fpflag_co  koi_fpflag_ec  \\\n",
       "0       CONFIRMED              0              0              0              0   \n",
       "1  FALSE POSITIVE              0              1              0              0   \n",
       "2  FALSE POSITIVE              0              1              0              0   \n",
       "3       CONFIRMED              0              0              0              0   \n",
       "4       CONFIRMED              0              0              0              0   \n",
       "\n",
       "   koi_period  koi_period_err1  koi_period_err2  koi_time0bk  \\\n",
       "0   54.418383     2.479000e-04    -2.479000e-04   162.513840   \n",
       "1   19.899140     1.490000e-05    -1.490000e-05   175.850252   \n",
       "2    1.736952     2.630000e-07    -2.630000e-07   170.307565   \n",
       "3    2.525592     3.760000e-06    -3.760000e-06   171.595550   \n",
       "4    4.134435     1.050000e-05    -1.050000e-05   172.979370   \n",
       "\n",
       "   koi_time0bk_err1  ...  koi_steff_err2  koi_slogg  koi_slogg_err1  \\\n",
       "0          0.003520  ...             -81      4.467           0.064   \n",
       "1          0.000581  ...            -176      4.544           0.044   \n",
       "2          0.000115  ...            -174      4.564           0.053   \n",
       "3          0.001130  ...            -211      4.438           0.070   \n",
       "4          0.001900  ...            -232      4.486           0.054   \n",
       "\n",
       "   koi_slogg_err2  koi_srad  koi_srad_err1  koi_srad_err2         ra  \\\n",
       "0          -0.096     0.927          0.105         -0.061  291.93423   \n",
       "1          -0.176     0.868          0.233         -0.078  297.00482   \n",
       "2          -0.168     0.791          0.201         -0.067  285.53461   \n",
       "3          -0.210     1.046          0.334         -0.133  288.75488   \n",
       "4          -0.229     0.972          0.315         -0.105  296.28613   \n",
       "\n",
       "         dec  koi_kepmag  \n",
       "0  48.141651      15.347  \n",
       "1  48.134129      15.436  \n",
       "2  48.285210      15.597  \n",
       "3  48.226200      15.509  \n",
       "4  48.224670      15.714  \n",
       "\n",
       "[5 rows x 41 columns]"
      ]
     },
     "execution_count": 27,
     "metadata": {},
     "output_type": "execute_result"
    }
   ],
   "source": [
    "df = pd.read_csv(\"./data/exoplanet_data.csv\")\n",
    "# Drop the null columns where all values are null\n",
    "df = df.dropna(axis='columns', how='all')\n",
    "# Drop the null rows\n",
    "df = df.dropna()\n",
    "df.head()\n"
   ]
  },
  {
   "cell_type": "code",
   "execution_count": 28,
   "metadata": {},
   "outputs": [
    {
     "data": {
      "text/plain": [
       "array(['CONFIRMED', 'FALSE POSITIVE', 'CANDIDATE'], dtype=object)"
      ]
     },
     "execution_count": 28,
     "metadata": {},
     "output_type": "execute_result"
    }
   ],
   "source": [
    "\n",
    "df.koi_disposition.unique()\n"
   ]
  },
  {
   "cell_type": "code",
   "execution_count": 30,
   "metadata": {},
   "outputs": [],
   "source": [
    "target = df[\"koi_disposition\"]\n",
    "data = df.drop(\"koi_disposition\", axis=1)\n",
    "feature_names = data.columns\n",
    "# target_names = [\"CONFIRMED\", \"FALSE POSITIVE\", \"CANDIDATE\"]"
   ]
  },
  {
   "cell_type": "markdown",
   "metadata": {},
   "source": [
    "# Select your features (columns)"
   ]
  },
  {
   "cell_type": "code",
   "execution_count": 31,
   "metadata": {},
   "outputs": [
    {
     "data": {
      "text/plain": [
       "0.847254004576659"
      ]
     },
     "execution_count": 31,
     "metadata": {},
     "output_type": "execute_result"
    }
   ],
   "source": [
    "\n",
    "from sklearn.model_selection import train_test_split\n",
    "X_train, X_test, y_train, y_test = train_test_split(data, target, random_state=41)\n",
    "\n",
    "clf = tree.DecisionTreeClassifier()\n",
    "clf = clf.fit(X_train, y_train)\n",
    "clf.score(X_test, y_test)\n"
   ]
  },
  {
   "cell_type": "code",
   "execution_count": 32,
   "metadata": {
    "scrolled": true
   },
   "outputs": [
    {
     "data": {
      "text/plain": [
       "[(0.10847644705192712, 'koi_fpflag_co'),\n",
       " (0.09824193599826828, 'koi_fpflag_nt'),\n",
       " (0.06244367810686073, 'koi_fpflag_ss'),\n",
       " (0.060132302155726194, 'koi_model_snr'),\n",
       " (0.05246376265990838, 'koi_prad'),\n",
       " (0.03511751791117565, 'koi_steff_err1'),\n",
       " (0.03355193731604247, 'koi_fpflag_ec'),\n",
       " (0.0325951671709977, 'koi_prad_err2'),\n",
       " (0.03097500148726284, 'koi_duration_err2'),\n",
       " (0.030411600430496, 'koi_steff_err2'),\n",
       " (0.028839206268458196, 'koi_prad_err1'),\n",
       " (0.02811035642896563, 'koi_duration_err1'),\n",
       " (0.024674956951972016, 'koi_time0bk_err1'),\n",
       " (0.02318095092314885, 'koi_time0bk_err2'),\n",
       " (0.022608296046150955, 'koi_duration'),\n",
       " (0.02137456718621606, 'koi_period'),\n",
       " (0.0209316611000772, 'koi_depth'),\n",
       " (0.019569394270956126, 'koi_impact'),\n",
       " (0.0183848933621843, 'koi_insol_err1'),\n",
       " (0.017046263306983403, 'koi_period_err2'),\n",
       " (0.016778102161898793, 'koi_period_err1'),\n",
       " (0.016212006869583937, 'koi_insol'),\n",
       " (0.015364476780077707, 'koi_depth_err2'),\n",
       " (0.015021773884300108, 'koi_teq'),\n",
       " (0.0142422752103904, 'koi_insol_err2'),\n",
       " (0.014010501629599555, 'koi_time0bk'),\n",
       " (0.012898218757331026, 'koi_depth_err1'),\n",
       " (0.012253456349560128, 'ra'),\n",
       " (0.01218788537460619, 'koi_srad_err1'),\n",
       " (0.011029175931715922, 'dec'),\n",
       " (0.01097966250448218, 'koi_slogg_err2'),\n",
       " (0.010595691599810735, 'koi_kepmag'),\n",
       " (0.010499396104885254, 'koi_impact_err1'),\n",
       " (0.010355161646866251, 'koi_impact_err2'),\n",
       " (0.009711663801218502, 'koi_steff'),\n",
       " (0.0091227138611138, 'koi_slogg'),\n",
       " (0.009037407475512595, 'koi_slogg_err1'),\n",
       " (0.00889958445772161, 'koi_srad'),\n",
       " (0.008528786879897575, 'koi_srad_err2'),\n",
       " (0.003142162585649688, 'koi_tce_plnt_num')]"
      ]
     },
     "execution_count": 32,
     "metadata": {},
     "output_type": "execute_result"
    }
   ],
   "source": [
    "from sklearn.ensemble import RandomForestClassifier\n",
    "rf = RandomForestClassifier(n_estimators=200) # nj\n",
    "rf = rf.fit(X_train, y_train)\n",
    "rf.score(X_test, y_test)\n",
    "sorted(zip(rf.feature_importances_, feature_names), reverse=True)"
   ]
  },
  {
   "cell_type": "code",
   "execution_count": 34,
   "metadata": {
    "scrolled": true
   },
   "outputs": [
    {
     "data": {
      "text/plain": [
       "[(0.14895126, 'koi_fpflag_nt'),\n",
       " (0.14454485, 'koi_steff_err1'),\n",
       " (0.12708673, 'koi_fpflag_ss'),\n",
       " (0.11910318, 'koi_fpflag_co'),\n",
       " (0.072929755, 'koi_model_snr'),\n",
       " (0.05318416, 'koi_prad_err2'),\n",
       " (0.0466299, 'koi_fpflag_ec'),\n",
       " (0.03979769, 'koi_duration_err1'),\n",
       " (0.031152459, 'koi_prad'),\n",
       " (0.023301866, 'koi_steff_err2'),\n",
       " (0.01650642, 'koi_impact'),\n",
       " (0.015743354, 'koi_depth_err1'),\n",
       " (0.015116358, 'koi_tce_plnt_num'),\n",
       " (0.014131533, 'koi_insol_err1'),\n",
       " (0.013287031, 'koi_srad_err1'),\n",
       " (0.010413764, 'koi_duration'),\n",
       " (0.010167182, 'koi_period'),\n",
       " (0.008413336, 'koi_prad_err1'),\n",
       " (0.0072226166, 'koi_teq'),\n",
       " (0.0070541543, 'koi_insol'),\n",
       " (0.0068567367, 'koi_period_err1'),\n",
       " (0.0059639253, 'koi_slogg'),\n",
       " (0.0058678202, 'koi_kepmag'),\n",
       " (0.005749027, 'koi_time0bk'),\n",
       " (0.0057016904, 'koi_steff'),\n",
       " (0.0054662465, 'ra'),\n",
       " (0.005416429, 'koi_time0bk_err1'),\n",
       " (0.005214963, 'koi_insol_err2'),\n",
       " (0.004993066, 'koi_depth'),\n",
       " (0.0049747955, 'dec'),\n",
       " (0.0048311586, 'koi_slogg_err2'),\n",
       " (0.004290413, 'koi_srad_err2'),\n",
       " (0.003925651, 'koi_srad'),\n",
       " (0.0026602643, 'koi_impact_err1'),\n",
       " (0.0021785495, 'koi_impact_err2'),\n",
       " (0.0011717052, 'koi_slogg_err1'),\n",
       " (0.0, 'koi_time0bk_err2'),\n",
       " (0.0, 'koi_period_err2'),\n",
       " (0.0, 'koi_duration_err2'),\n",
       " (0.0, 'koi_depth_err2')]"
      ]
     },
     "execution_count": 34,
     "metadata": {},
     "output_type": "execute_result"
    }
   ],
   "source": [
    "from xgboost import XGBClassifier\n",
    "xgb = XGBClassifier()\n",
    "xgb = xgb.fit(X_train, y_train)\n",
    "xgb.score(X_test, y_test)\n",
    "\n",
    "sorted(zip(xgb.feature_importances_, feature_names), reverse=True)"
   ]
  },
  {
   "cell_type": "code",
   "execution_count": null,
   "metadata": {},
   "outputs": [],
   "source": []
  },
  {
   "cell_type": "code",
   "execution_count": 35,
   "metadata": {},
   "outputs": [],
   "source": [
    "# Set features. This will also be used as your x values.\n",
    "selected_features = df[['koi_fpflag_nt', 'koi_steff_err1','koi_fpflag_ss', 'koi_fpflag_co', 'koi_model_snr', 'koi_prad_err2']]\n"
   ]
  },
  {
   "cell_type": "markdown",
   "metadata": {},
   "source": [
    "# Create a Train Test Split\n",
    "\n",
    "Use `koi_disposition` for the y values"
   ]
  },
  {
   "cell_type": "code",
   "execution_count": null,
   "metadata": {},
   "outputs": [],
   "source": []
  },
  {
   "cell_type": "code",
   "execution_count": null,
   "metadata": {},
   "outputs": [],
   "source": [
    "X_train.head()"
   ]
  },
  {
   "cell_type": "markdown",
   "metadata": {},
   "source": [
    "# Pre-processing\n",
    "\n",
    "Scale the data using the MinMaxScaler and perform some feature selection"
   ]
  },
  {
   "cell_type": "code",
   "execution_count": 37,
   "metadata": {},
   "outputs": [
    {
     "name": "stdout",
     "output_type": "stream",
     "text": [
      "(6991, 40) (6991,)\n"
     ]
    }
   ],
   "source": [
    "# Scale your data\n",
    "# from sklearn.model_selection import train_test_split\n",
    "\n",
    "target = df[\"koi_disposition\"]\n",
    "data = df.drop(\"koi_disposition\", axis=1)\n",
    "\n",
    "X = data\n",
    "y = target\n",
    "print(X.shape, y.shape)\n",
    "\n",
    "from sklearn.preprocessing import LabelEncoder, MinMaxScaler\n",
    "from tensorflow.keras.utils import to_categorical\n",
    "\n",
    "\n",
    "X_train, X_test, y_train, y_test = train_test_split(\n",
    "    X, y, random_state=41, stratify=y)\n",
    "\n",
    "X_scaler = MinMaxScaler().fit(X_train)\n",
    "X_train_scaled = X_scaler.transform(X_train)\n",
    "X_test_scaled = X_scaler.transform(X_test)\n",
    "\n",
    "# Step 1: Label-encode data set\n",
    "label_encoder = LabelEncoder()\n",
    "label_encoder.fit(y_train)\n",
    "encoded_y_train = label_encoder.transform(y_train)\n",
    "encoded_y_test = label_encoder.transform(y_test)"
   ]
  },
  {
   "cell_type": "code",
   "execution_count": 46,
   "metadata": {},
   "outputs": [],
   "source": [
    "# Step 2: Convert encoded labels to one-hot-encoding\n",
    "y_train_categorical = to_categorical(encoded_y_train)\n",
    "y_test_categorical = to_categorical(encoded_y_test)\n",
    "\n",
    "from tensorflow.keras.models import Sequential\n",
    "from tensorflow.keras.layers import Dense\n",
    "\n",
    "# Create model and add layers\n",
    "model = Sequential()\n",
    "model.add(Dense(units=100, activation='relu', input_dim=40))\n",
    "model.add(Dense(units=100, activation='relu'))\n",
    "model.add(Dense(units=3, activation='softmax'))\n",
    "\n"
   ]
  },
  {
   "cell_type": "code",
   "execution_count": 47,
   "metadata": {},
   "outputs": [
    {
     "name": "stdout",
     "output_type": "stream",
     "text": [
      "Model: \"sequential_2\"\n",
      "_________________________________________________________________\n",
      "Layer (type)                 Output Shape              Param #   \n",
      "=================================================================\n",
      "dense_6 (Dense)              (None, 100)               4100      \n",
      "_________________________________________________________________\n",
      "dense_7 (Dense)              (None, 100)               10100     \n",
      "_________________________________________________________________\n",
      "dense_8 (Dense)              (None, 3)                 303       \n",
      "=================================================================\n",
      "Total params: 14,503\n",
      "Trainable params: 14,503\n",
      "Non-trainable params: 0\n",
      "_________________________________________________________________\n"
     ]
    }
   ],
   "source": [
    "# Compile and fit the model\n",
    "model.compile(optimizer='adam',\n",
    "              loss='categorical_crossentropy',\n",
    "              metrics=['accuracy'])\n",
    "model.summary()"
   ]
  },
  {
   "cell_type": "code",
   "execution_count": 48,
   "metadata": {
    "scrolled": true
   },
   "outputs": [
    {
     "name": "stdout",
     "output_type": "stream",
     "text": [
      "Train on 5243 samples\n",
      "Epoch 1/60\n",
      "5243/5243 - 2s - loss: 0.6042 - accuracy: 0.7063\n",
      "Epoch 2/60\n",
      "5243/5243 - 1s - loss: 0.3661 - accuracy: 0.8068\n",
      "Epoch 3/60\n",
      "5243/5243 - 1s - loss: 0.3501 - accuracy: 0.8224\n",
      "Epoch 4/60\n",
      "5243/5243 - 1s - loss: 0.3403 - accuracy: 0.8282\n",
      "Epoch 5/60\n",
      "5243/5243 - 1s - loss: 0.3264 - accuracy: 0.8415\n",
      "Epoch 6/60\n",
      "5243/5243 - 1s - loss: 0.3236 - accuracy: 0.8430\n",
      "Epoch 7/60\n",
      "5243/5243 - 1s - loss: 0.3191 - accuracy: 0.8499\n",
      "Epoch 8/60\n",
      "5243/5243 - 1s - loss: 0.3146 - accuracy: 0.8508\n",
      "Epoch 9/60\n",
      "5243/5243 - 1s - loss: 0.3056 - accuracy: 0.8623\n",
      "Epoch 10/60\n",
      "5243/5243 - 1s - loss: 0.3014 - accuracy: 0.8592\n",
      "Epoch 11/60\n",
      "5243/5243 - 1s - loss: 0.2973 - accuracy: 0.8648\n",
      "Epoch 12/60\n",
      "5243/5243 - 1s - loss: 0.2950 - accuracy: 0.8665\n",
      "Epoch 13/60\n",
      "5243/5243 - 1s - loss: 0.2936 - accuracy: 0.8728\n",
      "Epoch 14/60\n",
      "5243/5243 - 1s - loss: 0.2818 - accuracy: 0.8800\n",
      "Epoch 15/60\n",
      "5243/5243 - 1s - loss: 0.2808 - accuracy: 0.8755\n",
      "Epoch 16/60\n",
      "5243/5243 - 1s - loss: 0.2796 - accuracy: 0.8781\n",
      "Epoch 17/60\n",
      "5243/5243 - 1s - loss: 0.2802 - accuracy: 0.8755\n",
      "Epoch 18/60\n",
      "5243/5243 - 1s - loss: 0.2759 - accuracy: 0.8796\n",
      "Epoch 19/60\n",
      "5243/5243 - 1s - loss: 0.2752 - accuracy: 0.8817\n",
      "Epoch 20/60\n",
      "5243/5243 - 1s - loss: 0.2752 - accuracy: 0.8810\n",
      "Epoch 21/60\n",
      "5243/5243 - 1s - loss: 0.2720 - accuracy: 0.8835\n",
      "Epoch 22/60\n",
      "5243/5243 - 1s - loss: 0.2725 - accuracy: 0.8793\n",
      "Epoch 23/60\n",
      "5243/5243 - 1s - loss: 0.2672 - accuracy: 0.8825\n",
      "Epoch 24/60\n",
      "5243/5243 - 1s - loss: 0.2732 - accuracy: 0.8749\n",
      "Epoch 25/60\n",
      "5243/5243 - 1s - loss: 0.2607 - accuracy: 0.8890\n",
      "Epoch 26/60\n",
      "5243/5243 - 1s - loss: 0.2584 - accuracy: 0.8901\n",
      "Epoch 27/60\n",
      "5243/5243 - 1s - loss: 0.2626 - accuracy: 0.8898\n",
      "Epoch 28/60\n",
      "5243/5243 - 1s - loss: 0.2589 - accuracy: 0.8903\n",
      "Epoch 29/60\n",
      "5243/5243 - 1s - loss: 0.2594 - accuracy: 0.8890\n",
      "Epoch 30/60\n",
      "5243/5243 - 1s - loss: 0.2585 - accuracy: 0.8880\n",
      "Epoch 31/60\n",
      "5243/5243 - 1s - loss: 0.2609 - accuracy: 0.8854\n",
      "Epoch 32/60\n",
      "5243/5243 - 1s - loss: 0.2632 - accuracy: 0.8861\n",
      "Epoch 33/60\n",
      "5243/5243 - 1s - loss: 0.2533 - accuracy: 0.8928\n",
      "Epoch 34/60\n",
      "5243/5243 - 1s - loss: 0.2513 - accuracy: 0.8926\n",
      "Epoch 35/60\n",
      "5243/5243 - 1s - loss: 0.2595 - accuracy: 0.8861\n",
      "Epoch 36/60\n",
      "5243/5243 - 1s - loss: 0.2510 - accuracy: 0.8924\n",
      "Epoch 37/60\n",
      "5243/5243 - 1s - loss: 0.2530 - accuracy: 0.8911\n",
      "Epoch 38/60\n",
      "5243/5243 - 1s - loss: 0.2467 - accuracy: 0.8934\n",
      "Epoch 39/60\n",
      "5243/5243 - 1s - loss: 0.2530 - accuracy: 0.8919\n",
      "Epoch 40/60\n",
      "5243/5243 - 1s - loss: 0.2499 - accuracy: 0.8917\n",
      "Epoch 41/60\n",
      "5243/5243 - 1s - loss: 0.2486 - accuracy: 0.8957\n",
      "Epoch 42/60\n",
      "5243/5243 - 1s - loss: 0.2533 - accuracy: 0.8940\n",
      "Epoch 43/60\n",
      "5243/5243 - 1s - loss: 0.2414 - accuracy: 0.8978\n",
      "Epoch 44/60\n",
      "5243/5243 - 1s - loss: 0.2385 - accuracy: 0.8985\n",
      "Epoch 45/60\n",
      "5243/5243 - 1s - loss: 0.2440 - accuracy: 0.8959\n",
      "Epoch 46/60\n",
      "5243/5243 - 1s - loss: 0.2445 - accuracy: 0.8943\n",
      "Epoch 47/60\n",
      "5243/5243 - 1s - loss: 0.2357 - accuracy: 0.8964\n",
      "Epoch 48/60\n",
      "5243/5243 - 1s - loss: 0.2402 - accuracy: 0.8949\n",
      "Epoch 49/60\n",
      "5243/5243 - 1s - loss: 0.2435 - accuracy: 0.8934\n",
      "Epoch 50/60\n",
      "5243/5243 - 1s - loss: 0.2483 - accuracy: 0.8938\n",
      "Epoch 51/60\n",
      "5243/5243 - 1s - loss: 0.2383 - accuracy: 0.9002\n",
      "Epoch 52/60\n",
      "5243/5243 - 1s - loss: 0.2368 - accuracy: 0.8972\n",
      "Epoch 53/60\n",
      "5243/5243 - 1s - loss: 0.2459 - accuracy: 0.8932\n",
      "Epoch 54/60\n",
      "5243/5243 - 1s - loss: 0.2379 - accuracy: 0.8951\n",
      "Epoch 55/60\n",
      "5243/5243 - 1s - loss: 0.2327 - accuracy: 0.8991\n",
      "Epoch 56/60\n",
      "5243/5243 - 1s - loss: 0.2342 - accuracy: 0.8972\n",
      "Epoch 57/60\n",
      "5243/5243 - 1s - loss: 0.2395 - accuracy: 0.8955\n",
      "Epoch 58/60\n",
      "5243/5243 - 1s - loss: 0.2360 - accuracy: 0.8991\n",
      "Epoch 59/60\n",
      "5243/5243 - 1s - loss: 0.2293 - accuracy: 0.9016\n",
      "Epoch 60/60\n",
      "5243/5243 - 1s - loss: 0.2320 - accuracy: 0.8972\n"
     ]
    },
    {
     "data": {
      "text/plain": [
       "<tensorflow.python.keras.callbacks.History at 0x28fc80ac358>"
      ]
     },
     "execution_count": 48,
     "metadata": {},
     "output_type": "execute_result"
    }
   ],
   "source": [
    "model.fit(\n",
    "    X_train_scaled,\n",
    "    y_train_categorical,\n",
    "    epochs=60,\n",
    "    shuffle=True,\n",
    "    verbose=2\n",
    ")"
   ]
  },
  {
   "cell_type": "markdown",
   "metadata": {},
   "source": [
    "# Train the Model\n",
    "\n"
   ]
  },
  {
   "cell_type": "code",
   "execution_count": null,
   "metadata": {},
   "outputs": [],
   "source": [
    "print(f\"Training Data Score: {model2.score(X_train_scaled, y_train)}\")\n",
    "print(f\"Testing Data Score: {model2.score(X_test_scaled, y_test)}\")"
   ]
  },
  {
   "cell_type": "markdown",
   "metadata": {},
   "source": [
    "# Hyperparameter Tuning\n",
    "\n",
    "Use `GridSearchCV` to tune the model's parameters"
   ]
  },
  {
   "cell_type": "code",
   "execution_count": null,
   "metadata": {},
   "outputs": [],
   "source": [
    "# Create the GridSearchCV model"
   ]
  },
  {
   "cell_type": "code",
   "execution_count": null,
   "metadata": {},
   "outputs": [],
   "source": [
    "# Train the model with GridSearch"
   ]
  },
  {
   "cell_type": "code",
   "execution_count": null,
   "metadata": {},
   "outputs": [],
   "source": [
    "print(grid2.best_params_)\n",
    "print(grid2.best_score_)"
   ]
  },
  {
   "cell_type": "markdown",
   "metadata": {},
   "source": [
    "# Save the Model"
   ]
  },
  {
   "cell_type": "code",
   "execution_count": null,
   "metadata": {},
   "outputs": [],
   "source": [
    "# save your model by updating \"your_name\" with your name\n",
    "# and \"your_model\" with your model variable\n",
    "# be sure to turn this in to BCS\n",
    "# if joblib fails to import, try running the command to install in terminal/git-bash\n",
    "import joblib\n",
    "filename = 'your_name.sav'\n",
    "joblib.dump(your_model, filename)"
   ]
  }
 ],
 "metadata": {
  "kernel_info": {
   "name": "dev"
  },
  "kernelspec": {
   "display_name": "Python 3",
   "language": "python",
   "name": "python3"
  },
  "language_info": {
   "codemirror_mode": {
    "name": "ipython",
    "version": 3
   },
   "file_extension": ".py",
   "mimetype": "text/x-python",
   "name": "python",
   "nbconvert_exporter": "python",
   "pygments_lexer": "ipython3",
   "version": "3.7.3"
  },
  "nteract": {
   "version": "0.12.3"
  }
 },
 "nbformat": 4,
 "nbformat_minor": 2
}
